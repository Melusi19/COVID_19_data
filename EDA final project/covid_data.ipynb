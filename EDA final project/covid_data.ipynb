{
 "cells": [
  {
   "cell_type": "markdown",
   "id": "150c0cbf",
   "metadata": {},
   "source": [
    "# ============================================\n",
    "# COVID-19 Exploratory Data Analysis (OWID Dataset)\n",
    "# ============================================"
   ]
  },
  {
   "cell_type": "code",
   "execution_count": null,
   "id": "b1d6e2ff",
   "metadata": {
    "vscode": {
     "languageId": "plaintext"
    }
   },
   "outputs": [],
   "source": [
    "# 1. Libraries & Data Loading\n",
    "import pandas as pd\n",
    "import matplotlib.pyplot as plt\n",
    "import seaborn as sns\n",
    "import plotly.express as px"
   ]
  },
  {
   "cell_type": "code",
   "execution_count": null,
   "id": "7514d6e2",
   "metadata": {
    "vscode": {
     "languageId": "plaintext"
    }
   },
   "outputs": [],
   "source": [
    "# Visualization settings\n",
    "plt.style.use(\"seaborn\")\n",
    "plt.rcParams[\"figure.figsize\"] = (12,6)\n"
   ]
  },
  {
   "cell_type": "code",
   "execution_count": null,
   "id": "88b512ee",
   "metadata": {
    "vscode": {
     "languageId": "plaintext"
    }
   },
   "outputs": [],
   "source": [
    "# Load dataset (update path to your CSV file)\n",
    "df = pd.read_csv(\"owid-covid-data.csv\")"
   ]
  },
  {
   "cell_type": "code",
   "execution_count": null,
   "id": "62bd39e5",
   "metadata": {
    "vscode": {
     "languageId": "plaintext"
    }
   },
   "outputs": [],
   "source": [
    "# Explore dataset\n",
    "print(\"Shape:\", df.shape)\n",
    "print(\"Columns:\", df.columns.tolist())\n",
    "display(df.head())"
   ]
  },
  {
   "cell_type": "code",
   "execution_count": null,
   "id": "577ed013",
   "metadata": {
    "vscode": {
     "languageId": "plaintext"
    }
   },
   "outputs": [],
   "source": [
    "# Missing values check\n",
    "df.isnull().sum().sort_values(ascending=False).head(20)"
   ]
  },
  {
   "cell_type": "markdown",
   "id": "ca1e01cf",
   "metadata": {},
   "source": [
    "# ============================================\n",
    "# 2. Data Cleaning\n",
    "# ============================================"
   ]
  },
  {
   "cell_type": "code",
   "execution_count": null,
   "id": "8587daaa",
   "metadata": {
    "vscode": {
     "languageId": "plaintext"
    }
   },
   "outputs": [],
   "source": [
    "# Countries of interest\n",
    "countries = [\"Kenya\", \"United States\", \"India\"]"
   ]
  },
  {
   "cell_type": "code",
   "execution_count": null,
   "id": "e6cbc236",
   "metadata": {
    "vscode": {
     "languageId": "plaintext"
    }
   },
   "outputs": [],
   "source": [
    "# Filter dataset\n",
    "df_countries = df[df[\"location\"].isin(countries)].copy()"
   ]
  },
  {
   "cell_type": "code",
   "execution_count": null,
   "id": "450b76e5",
   "metadata": {
    "vscode": {
     "languageId": "plaintext"
    }
   },
   "outputs": [],
   "source": [
    "# Convert date\n",
    "df_countries[\"date\"] = pd.to_datetime(df_countries[\"date\"])"
   ]
  },
  {
   "cell_type": "code",
   "execution_count": null,
   "id": "da602243",
   "metadata": {
    "vscode": {
     "languageId": "plaintext"
    }
   },
   "outputs": [],
   "source": [
    "# Drop rows missing critical info\n",
    "df_countries = df_countries.dropna(subset=[\"date\", \"total_cases\"])\n"
   ]
  },
  {
   "cell_type": "code",
   "execution_count": null,
   "id": "0e402ffc",
   "metadata": {
    "vscode": {
     "languageId": "plaintext"
    }
   },
   "outputs": [],
   "source": [
    "# Fill missing values forward by country\n",
    "df_countries = df_countries.groupby(\"location\").apply(lambda g: g.fillna(method=\"ffill\"))\n",
    "df_countries.reset_index(drop=True, inplace=True)\n",
    "\n",
    "df_countries.head()"
   ]
  },
  {
   "cell_type": "markdown",
   "id": "3e7ad8b7",
   "metadata": {},
   "source": [
    "# ============================================\n",
    "# 3. Exploratory Data Analysis (EDA)\n",
    "# ============================================\n"
   ]
  },
  {
   "cell_type": "code",
   "execution_count": null,
   "id": "8006b54e",
   "metadata": {
    "vscode": {
     "languageId": "plaintext"
    }
   },
   "outputs": [],
   "source": [
    "# Total cases\n",
    "for country in countries:\n",
    "    temp = df_countries[df_countries[\"location\"] == country]\n",
    "    plt.plot(temp[\"date\"], temp[\"total_cases\"], label=country)\n",
    "plt.title(\"Total COVID-19 Cases Over Time\")\n",
    "plt.legend()\n",
    "plt.show()"
   ]
  },
  {
   "cell_type": "code",
   "execution_count": null,
   "id": "3062545a",
   "metadata": {
    "vscode": {
     "languageId": "plaintext"
    }
   },
   "outputs": [],
   "source": [
    "# Total deaths\n",
    "for country in countries:\n",
    "    temp = df_countries[df_countries[\"location\"] == country]\n",
    "    plt.plot(temp[\"date\"], temp[\"total_deaths\"], label=country)\n",
    "plt.title(\"Total COVID-19 Deaths Over Time\")\n",
    "plt.legend()\n",
    "plt.show()"
   ]
  },
  {
   "cell_type": "code",
   "execution_count": null,
   "id": "ffe81007",
   "metadata": {
    "vscode": {
     "languageId": "plaintext"
    }
   },
   "outputs": [],
   "source": [
    "# Daily new cases\n",
    "sns.lineplot(x=\"date\", y=\"new_cases\", hue=\"location\", data=df_countries)\n",
    "plt.title(\"Daily New Cases (Kenya, USA, India)\")\n",
    "plt.show()"
   ]
  },
  {
   "cell_type": "code",
   "execution_count": null,
   "id": "b5c75b1c",
   "metadata": {
    "vscode": {
     "languageId": "plaintext"
    }
   },
   "outputs": [],
   "source": [
    "# Death rate = deaths / cases\n",
    "df_countries[\"death_rate\"] = df_countries[\"total_deaths\"] / df_countries[\"total_cases\"]\n",
    "\n",
    "sns.lineplot(x=\"date\", y=\"death_rate\", hue=\"location\", data=df_countries)\n",
    "plt.title(\"COVID-19 Death Rate Over Time\")\n",
    "plt.show()"
   ]
  },
  {
   "cell_type": "markdown",
   "id": "720b500b",
   "metadata": {},
   "source": [
    "# ============================================\n",
    "# 4. Vaccination Progress\n",
    "# ============================================"
   ]
  },
  {
   "cell_type": "code",
   "execution_count": null,
   "id": "7af97ae0",
   "metadata": {
    "vscode": {
     "languageId": "plaintext"
    }
   },
   "outputs": [],
   "source": [
    "# Total vaccinations\n",
    "sns.lineplot(x=\"date\", y=\"total_vaccinations\", hue=\"location\", data=df_countries)\n",
    "plt.title(\"Total Vaccinations Over Time\")\n",
    "plt.show()"
   ]
  },
  {
   "cell_type": "code",
   "execution_count": null,
   "id": "f7065554",
   "metadata": {
    "vscode": {
     "languageId": "plaintext"
    }
   },
   "outputs": [],
   "source": [
    "# % fully vaccinated population\n",
    "df_countries[\"vaccinated_pct\"] = (df_countries[\"people_fully_vaccinated\"] / df_countries[\"population\"]) * 100\n",
    "\n",
    "sns.lineplot(x=\"date\", y=\"vaccinated_pct\", hue=\"location\", data=df_countries)\n",
    "plt.title(\"% Population Fully Vaccinated Over Time\")\n",
    "plt.show()"
   ]
  },
  {
   "cell_type": "markdown",
   "id": "e8eb03ae",
   "metadata": {},
   "source": [
    "# ============================================\n",
    "# 5. Global Overview\n",
    "# ============================================"
   ]
  },
  {
   "cell_type": "code",
   "execution_count": null,
   "id": "b8fd7471",
   "metadata": {
    "vscode": {
     "languageId": "plaintext"
    }
   },
   "outputs": [],
   "source": [
    "latest_date = df[\"date\"].max()\n",
    "latest = df[df[\"date\"] == latest_date]"
   ]
  },
  {
   "cell_type": "code",
   "execution_count": null,
   "id": "257b56ba",
   "metadata": {
    "vscode": {
     "languageId": "plaintext"
    }
   },
   "outputs": [],
   "source": [
    "# Top 10 by total cases\n",
    "top_cases = latest.nlargest(10, \"total_cases\")[[\"location\", \"total_cases\"]]\n",
    "sns.barplot(x=\"total_cases\", y=\"location\", data=top_cases)\n",
    "plt.title(\"Top 10 Countries by Total Cases\")\n",
    "plt.show()"
   ]
  },
  {
   "cell_type": "code",
   "execution_count": null,
   "id": "57d57577",
   "metadata": {
    "vscode": {
     "languageId": "plaintext"
    }
   },
   "outputs": [],
   "source": [
    "# Correlation heatmap\n",
    "numeric = df_countries[[\"total_cases\", \"total_deaths\", \"new_cases\", \"new_deaths\", \"total_vaccinations\"]].dropna()\n",
    "sns.heatmap(numeric.corr(), annot=True, cmap=\"coolwarm\")\n",
    "plt.title(\"Correlation Heatmap (Selected Countries)\")\n",
    "plt.show()"
   ]
  },
  {
   "cell_type": "markdown",
   "id": "039dd55d",
   "metadata": {},
   "source": [
    "# ============================================\n",
    "# 6. Choropleth Maps\n",
    "# ============================================"
   ]
  },
  {
   "cell_type": "code",
   "execution_count": null,
   "id": "f55fd135",
   "metadata": {
    "vscode": {
     "languageId": "plaintext"
    }
   },
   "outputs": [],
   "source": [
    "# Prepare mapping dataset\n",
    "map_data = latest[[\"iso_code\", \"location\", \"total_cases\", \"population\", \"people_fully_vaccinated\"]].dropna()\n",
    "map_data[\"cases_per_million\"] = (map_data[\"total_cases\"] / map_data[\"population\"]) * 1e6\n",
    "map_data[\"vaccination_rate\"] = (map_data[\"people_fully_vaccinated\"] / map_data[\"population\"]) * 100"
   ]
  },
  {
   "cell_type": "code",
   "execution_count": null,
   "id": "860a5f06",
   "metadata": {
    "vscode": {
     "languageId": "plaintext"
    }
   },
   "outputs": [],
   "source": [
    "# Cases per million map\n",
    "fig_cases = px.choropleth(\n",
    "    map_data,\n",
    "    locations=\"iso_code\",\n",
    "    color=\"cases_per_million\",\n",
    "    hover_name=\"location\",\n",
    "    hover_data=[\"total_cases\", \"population\"],\n",
    "    color_continuous_scale=\"Reds\",\n",
    "    title=f\"COVID-19 Cases per Million (as of {latest_date})\"\n",
    ")\n",
    "fig_cases.show()"
   ]
  },
  {
   "cell_type": "code",
   "execution_count": null,
   "id": "10b0ddf3",
   "metadata": {
    "vscode": {
     "languageId": "plaintext"
    }
   },
   "outputs": [],
   "source": [
    "# Vaccination rate map\n",
    "fig_vax = px.choropleth(\n",
    "    map_data,\n",
    "    locations=\"iso_code\",\n",
    "    color=\"vaccination_rate\",\n",
    "    hover_name=\"location\",\n",
    "    hover_data=[\"people_fully_vaccinated\", \"population\"],\n",
    "    color_continuous_scale=\"Greens\",\n",
    "    title=f\"COVID-19 Vaccination Rate (% Fully Vaccinated) (as of {latest_date})\"\n",
    ")\n",
    "fig_vax.show()"
   ]
  },
  {
   "cell_type": "markdown",
   "id": "0a41842c",
   "metadata": {},
   "source": [
    "# ============================================\n",
    "# 7. Insights & Reporting\n",
    "# ============================================"
   ]
  },
  {
   "cell_type": "markdown",
   "id": "f84caff2",
   "metadata": {},
   "source": [
    "## Key Insights (example placeholders):\n",
    "1. **India** had the highest spike in daily new cases among Kenya, USA, and India.  \n",
    "2. **USA** recorded the highest cumulative deaths.  \n",
    "3. **Kenya** showed a delayed vaccination rollout compared to the USA and India.  \n",
    "4. Death rates dropped over time, stabilizing after major vaccination campaigns.  \n",
    "5. Global choropleth maps highlight uneven vaccine distribution — high in developed nations, low in some African regions."
   ]
  }
 ],
 "metadata": {
  "language_info": {
   "name": "python"
  }
 },
 "nbformat": 4,
 "nbformat_minor": 5
}
